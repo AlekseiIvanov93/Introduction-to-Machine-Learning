{
 "cells": [
  {
   "cell_type": "markdown",
   "metadata": {},
   "source": [
    "# Финальное задание"
   ]
  },
  {
   "cell_type": "code",
   "execution_count": 1,
   "metadata": {},
   "outputs": [],
   "source": [
    "import pandas as pd\n",
    "import numpy as np\n",
    "import time\n",
    "import datetime\n",
    "from sklearn.model_selection import cross_val_score\n",
    "from sklearn.model_selection import KFold\n",
    "from sklearn.ensemble import GradientBoostingClassifier\n",
    "from sklearn.linear_model import LogisticRegression\n",
    "from sklearn.preprocessing import StandardScaler"
   ]
  },
  {
   "cell_type": "markdown",
   "metadata": {},
   "source": [
    "#### Пример чтения файла с признаками"
   ]
  },
  {
   "cell_type": "code",
   "execution_count": 2,
   "metadata": {},
   "outputs": [
    {
     "data": {
      "text/html": [
       "<div>\n",
       "<style scoped>\n",
       "    .dataframe tbody tr th:only-of-type {\n",
       "        vertical-align: middle;\n",
       "    }\n",
       "\n",
       "    .dataframe tbody tr th {\n",
       "        vertical-align: top;\n",
       "    }\n",
       "\n",
       "    .dataframe thead th {\n",
       "        text-align: right;\n",
       "    }\n",
       "</style>\n",
       "<table border=\"1\" class=\"dataframe\">\n",
       "  <thead>\n",
       "    <tr style=\"text-align: right;\">\n",
       "      <th></th>\n",
       "      <th>start_time</th>\n",
       "      <th>lobby_type</th>\n",
       "      <th>r1_hero</th>\n",
       "      <th>r1_level</th>\n",
       "      <th>r1_xp</th>\n",
       "      <th>r1_gold</th>\n",
       "      <th>r1_lh</th>\n",
       "      <th>r1_kills</th>\n",
       "      <th>r1_deaths</th>\n",
       "      <th>r1_items</th>\n",
       "      <th>...</th>\n",
       "      <th>dire_boots_count</th>\n",
       "      <th>dire_ward_observer_count</th>\n",
       "      <th>dire_ward_sentry_count</th>\n",
       "      <th>dire_first_ward_time</th>\n",
       "      <th>duration</th>\n",
       "      <th>radiant_win</th>\n",
       "      <th>tower_status_radiant</th>\n",
       "      <th>tower_status_dire</th>\n",
       "      <th>barracks_status_radiant</th>\n",
       "      <th>barracks_status_dire</th>\n",
       "    </tr>\n",
       "    <tr>\n",
       "      <th>match_id</th>\n",
       "      <th></th>\n",
       "      <th></th>\n",
       "      <th></th>\n",
       "      <th></th>\n",
       "      <th></th>\n",
       "      <th></th>\n",
       "      <th></th>\n",
       "      <th></th>\n",
       "      <th></th>\n",
       "      <th></th>\n",
       "      <th></th>\n",
       "      <th></th>\n",
       "      <th></th>\n",
       "      <th></th>\n",
       "      <th></th>\n",
       "      <th></th>\n",
       "      <th></th>\n",
       "      <th></th>\n",
       "      <th></th>\n",
       "      <th></th>\n",
       "      <th></th>\n",
       "    </tr>\n",
       "  </thead>\n",
       "  <tbody>\n",
       "    <tr>\n",
       "      <th>0</th>\n",
       "      <td>1430198770</td>\n",
       "      <td>7</td>\n",
       "      <td>11</td>\n",
       "      <td>5</td>\n",
       "      <td>2098</td>\n",
       "      <td>1489</td>\n",
       "      <td>20</td>\n",
       "      <td>0</td>\n",
       "      <td>0</td>\n",
       "      <td>7</td>\n",
       "      <td>...</td>\n",
       "      <td>4</td>\n",
       "      <td>2</td>\n",
       "      <td>2</td>\n",
       "      <td>-52.0</td>\n",
       "      <td>2874</td>\n",
       "      <td>1</td>\n",
       "      <td>1796</td>\n",
       "      <td>0</td>\n",
       "      <td>51</td>\n",
       "      <td>0</td>\n",
       "    </tr>\n",
       "    <tr>\n",
       "      <th>1</th>\n",
       "      <td>1430220345</td>\n",
       "      <td>0</td>\n",
       "      <td>42</td>\n",
       "      <td>4</td>\n",
       "      <td>1188</td>\n",
       "      <td>1033</td>\n",
       "      <td>9</td>\n",
       "      <td>0</td>\n",
       "      <td>1</td>\n",
       "      <td>12</td>\n",
       "      <td>...</td>\n",
       "      <td>4</td>\n",
       "      <td>3</td>\n",
       "      <td>1</td>\n",
       "      <td>-5.0</td>\n",
       "      <td>2463</td>\n",
       "      <td>1</td>\n",
       "      <td>1974</td>\n",
       "      <td>0</td>\n",
       "      <td>63</td>\n",
       "      <td>1</td>\n",
       "    </tr>\n",
       "    <tr>\n",
       "      <th>2</th>\n",
       "      <td>1430227081</td>\n",
       "      <td>7</td>\n",
       "      <td>33</td>\n",
       "      <td>4</td>\n",
       "      <td>1319</td>\n",
       "      <td>1270</td>\n",
       "      <td>22</td>\n",
       "      <td>0</td>\n",
       "      <td>0</td>\n",
       "      <td>12</td>\n",
       "      <td>...</td>\n",
       "      <td>4</td>\n",
       "      <td>3</td>\n",
       "      <td>1</td>\n",
       "      <td>13.0</td>\n",
       "      <td>2130</td>\n",
       "      <td>0</td>\n",
       "      <td>0</td>\n",
       "      <td>1830</td>\n",
       "      <td>0</td>\n",
       "      <td>63</td>\n",
       "    </tr>\n",
       "    <tr>\n",
       "      <th>3</th>\n",
       "      <td>1430263531</td>\n",
       "      <td>1</td>\n",
       "      <td>29</td>\n",
       "      <td>4</td>\n",
       "      <td>1779</td>\n",
       "      <td>1056</td>\n",
       "      <td>14</td>\n",
       "      <td>0</td>\n",
       "      <td>0</td>\n",
       "      <td>5</td>\n",
       "      <td>...</td>\n",
       "      <td>4</td>\n",
       "      <td>2</td>\n",
       "      <td>0</td>\n",
       "      <td>27.0</td>\n",
       "      <td>1459</td>\n",
       "      <td>0</td>\n",
       "      <td>1920</td>\n",
       "      <td>2047</td>\n",
       "      <td>50</td>\n",
       "      <td>63</td>\n",
       "    </tr>\n",
       "    <tr>\n",
       "      <th>4</th>\n",
       "      <td>1430282290</td>\n",
       "      <td>7</td>\n",
       "      <td>13</td>\n",
       "      <td>4</td>\n",
       "      <td>1431</td>\n",
       "      <td>1090</td>\n",
       "      <td>8</td>\n",
       "      <td>1</td>\n",
       "      <td>0</td>\n",
       "      <td>8</td>\n",
       "      <td>...</td>\n",
       "      <td>3</td>\n",
       "      <td>3</td>\n",
       "      <td>0</td>\n",
       "      <td>-16.0</td>\n",
       "      <td>2449</td>\n",
       "      <td>0</td>\n",
       "      <td>4</td>\n",
       "      <td>1974</td>\n",
       "      <td>3</td>\n",
       "      <td>63</td>\n",
       "    </tr>\n",
       "  </tbody>\n",
       "</table>\n",
       "<p>5 rows × 108 columns</p>\n",
       "</div>"
      ],
      "text/plain": [
       "          start_time  lobby_type  r1_hero  r1_level  r1_xp  r1_gold  r1_lh  \\\n",
       "match_id                                                                     \n",
       "0         1430198770           7       11         5   2098     1489     20   \n",
       "1         1430220345           0       42         4   1188     1033      9   \n",
       "2         1430227081           7       33         4   1319     1270     22   \n",
       "3         1430263531           1       29         4   1779     1056     14   \n",
       "4         1430282290           7       13         4   1431     1090      8   \n",
       "\n",
       "          r1_kills  r1_deaths  r1_items  ...  dire_boots_count  \\\n",
       "match_id                                 ...                     \n",
       "0                0          0         7  ...                 4   \n",
       "1                0          1        12  ...                 4   \n",
       "2                0          0        12  ...                 4   \n",
       "3                0          0         5  ...                 4   \n",
       "4                1          0         8  ...                 3   \n",
       "\n",
       "          dire_ward_observer_count  dire_ward_sentry_count  \\\n",
       "match_id                                                     \n",
       "0                                2                       2   \n",
       "1                                3                       1   \n",
       "2                                3                       1   \n",
       "3                                2                       0   \n",
       "4                                3                       0   \n",
       "\n",
       "          dire_first_ward_time  duration  radiant_win  tower_status_radiant  \\\n",
       "match_id                                                                      \n",
       "0                        -52.0      2874            1                  1796   \n",
       "1                         -5.0      2463            1                  1974   \n",
       "2                         13.0      2130            0                     0   \n",
       "3                         27.0      1459            0                  1920   \n",
       "4                        -16.0      2449            0                     4   \n",
       "\n",
       "          tower_status_dire  barracks_status_radiant  barracks_status_dire  \n",
       "match_id                                                                    \n",
       "0                         0                       51                     0  \n",
       "1                         0                       63                     1  \n",
       "2                      1830                        0                    63  \n",
       "3                      2047                       50                    63  \n",
       "4                      1974                        3                    63  \n",
       "\n",
       "[5 rows x 108 columns]"
      ]
     },
     "execution_count": 2,
     "metadata": {},
     "output_type": "execute_result"
    }
   ],
   "source": [
    "data = pd.read_csv('./features.csv', index_col='match_id')\n",
    "data.head()"
   ]
  },
  {
   "cell_type": "markdown",
   "metadata": {},
   "source": [
    "## Какие признаки имеют пропуски среди своих значений? Что могут означать пропуски в этих признаках?"
   ]
  },
  {
   "cell_type": "code",
   "execution_count": 3,
   "metadata": {},
   "outputs": [
    {
     "data": {
      "text/plain": [
       "True"
      ]
     },
     "execution_count": 3,
     "metadata": {},
     "output_type": "execute_result"
    }
   ],
   "source": [
    "data.isnull().any().any()"
   ]
  },
  {
   "cell_type": "code",
   "execution_count": 4,
   "metadata": {},
   "outputs": [
    {
     "name": "stdout",
     "output_type": "stream",
     "text": [
      "Столбцы, где есть пропуски \n",
      "first_blood_time               77677\n",
      "first_blood_team               77677\n",
      "first_blood_player1            77677\n",
      "first_blood_player2            53243\n",
      "radiant_bottle_time            81539\n",
      "radiant_courier_time           96538\n",
      "radiant_flying_courier_time    69751\n",
      "radiant_first_ward_time        95394\n",
      "dire_bottle_time               81087\n",
      "dire_courier_time              96554\n",
      "dire_flying_courier_time       71132\n",
      "dire_first_ward_time           95404\n",
      "dtype: int64\n"
     ]
    }
   ],
   "source": [
    "passes = data.count()[data.count() != data.shape[0]]\n",
    "print(f'Столбцы, где есть пропуски \\n{passes}')"
   ]
  },
  {
   "cell_type": "markdown",
   "metadata": {},
   "source": [
    "Признаки события \"первая кровь\" (first blood). Если событие \"первая кровь\" не успело произойти за первые 5 минут, то признаки принимают пропущенное значение"
   ]
  },
  {
   "cell_type": "markdown",
   "metadata": {},
   "source": [
    "Заменим пропуски нулями"
   ]
  },
  {
   "cell_type": "code",
   "execution_count": 5,
   "metadata": {},
   "outputs": [
    {
     "data": {
      "text/plain": [
       "False"
      ]
     },
     "execution_count": 5,
     "metadata": {},
     "output_type": "execute_result"
    }
   ],
   "source": [
    "data.fillna(0, inplace = True)\n",
    "data.isnull().any().any()"
   ]
  },
  {
   "cell_type": "markdown",
   "metadata": {},
   "source": [
    "## Как называется столбец, содержащий целевую переменную?"
   ]
  },
  {
   "cell_type": "markdown",
   "metadata": {},
   "source": [
    "Выделим целевую переменную"
   ]
  },
  {
   "cell_type": "code",
   "execution_count": 6,
   "metadata": {},
   "outputs": [],
   "source": [
    "y = data['radiant_win'] # целевая переменная\n",
    "X = data.drop(columns='radiant_win')"
   ]
  },
  {
   "cell_type": "markdown",
   "metadata": {},
   "source": [
    "Даанные поля отсутствуют в тестовой выборке\n",
    "* duration: длительность\n",
    "* tower_status_radiant\n",
    "* tower_status_dire\n",
    "* barracks_status_radiant\n",
    "* barracks_status_dire"
   ]
  },
  {
   "cell_type": "code",
   "execution_count": 7,
   "metadata": {},
   "outputs": [],
   "source": [
    "X.drop(['duration',\n",
    "        'tower_status_radiant',\n",
    "        'tower_status_dire', \n",
    "        'barracks_status_radiant',\n",
    "        'barracks_status_dire'], axis='columns', inplace=True)"
   ]
  },
  {
   "cell_type": "markdown",
   "metadata": {},
   "source": [
    "## Подход 1: градиентный бустинг \"в лоб\""
   ]
  },
  {
   "cell_type": "code",
   "execution_count": 9,
   "metadata": {},
   "outputs": [
    {
     "name": "stdout",
     "output_type": "stream",
     "text": [
      "n_estimators=10\n",
      "time: 0:00:52.226770\n",
      "score:0.664989762526323\n",
      "\n",
      "n_estimators=20\n",
      "time: 0:01:36.004326\n",
      "score:0.6823347677461424\n",
      "\n",
      "n_estimators=30\n",
      "time: 0:02:23.437137\n",
      "score:0.6894658389438937\n",
      "\n",
      "n_estimators=50\n",
      "time: 0:03:44.994584\n",
      "score:0.6977346926873833\n",
      "\n",
      "n_estimators=75\n",
      "time: 0:05:10.498963\n",
      "score:0.7034355902749001\n",
      "\n"
     ]
    }
   ],
   "source": [
    "kf = KFold(n_splits=5, shuffle=True, random_state=7979)\n",
    "result = []\n",
    "n_estimators = [10, 20, 30, 50, 75]\n",
    "for n in n_estimators:\n",
    "    print(f'n_estimators={n}')\n",
    "    model = GradientBoostingClassifier(n_estimators=n, random_state=7979)\n",
    "    start_time = datetime.datetime.now()\n",
    "    cross_model = cross_val_score(model, X, y, cv=kf, scoring='roc_auc', n_jobs=-1).mean()\n",
    "    print('time:', datetime.datetime.now() - start_time)\n",
    "    print(f'score:{cross_model}')\n",
    "    print()\n",
    "    result.append(cross_model)"
   ]
  },
  {
   "cell_type": "markdown",
   "metadata": {},
   "source": [
    "## Как долго проводилась кросс-валидация для градиентного бустинга с 30 деревьями? Какое качество при этом получилось? \n",
    "\n",
    "n_estimators=30  \n",
    "Time: 0:02:19.958300  \n",
    "score:0.6894658389438937"
   ]
  },
  {
   "cell_type": "markdown",
   "metadata": {},
   "source": [
    "## Имеет ли смысл использовать больше 30 деревьев в градиентном бустинге? \n",
    "Имеет  \n",
    "n_estimators=100  \n",
    "Time: 0:08:41.009447  \n",
    "score:0.7066524497035768"
   ]
  },
  {
   "cell_type": "markdown",
   "metadata": {},
   "source": [
    "## Что бы вы предложили делать, чтобы ускорить его обучение при увеличении количества деревьев?\n",
    " Изменение параметров : увеличение learning_rate и  уменьшение max_depth, использовать для обучения и кросс-валидации не всю выборку, а некоторое ее подмножество"
   ]
  },
  {
   "cell_type": "markdown",
   "metadata": {},
   "source": [
    "## Подход 2: логистическая регрессия"
   ]
  },
  {
   "cell_type": "markdown",
   "metadata": {},
   "source": [
    "## Оцените качество логистической регрессии с помощью кросс-валидации по той же схеме, которая использовалась для градиентного бустинга."
   ]
  },
  {
   "cell_type": "code",
   "execution_count": 10,
   "metadata": {},
   "outputs": [],
   "source": [
    "scale = StandardScaler()\n",
    "X_scale = scale.fit_transform(X)"
   ]
  },
  {
   "cell_type": "code",
   "execution_count": 11,
   "metadata": {},
   "outputs": [
    {
     "name": "stdout",
     "output_type": "stream",
     "text": [
      "C=0.0001\n",
      "time: 0:00:09.282298\n",
      "score:0.7112\n",
      "\n",
      "C=0.001\n",
      "time: 0:00:04.305857\n",
      "score:0.7162\n",
      "\n",
      "C=0.01\n",
      "time: 0:00:05.092629\n",
      "score:0.7164\n",
      "\n",
      "C=0.1\n",
      "time: 0:00:05.265701\n",
      "score:0.7163\n",
      "\n",
      "C=1\n",
      "time: 0:00:05.001862\n",
      "score:0.7163\n",
      "\n",
      "C=10\n",
      "time: 0:00:05.109512\n",
      "score:0.7163\n",
      "\n",
      "C=100\n",
      "time: 0:00:04.775612\n",
      "score:0.7163\n",
      "\n",
      "C=1000\n",
      "time: 0:00:04.978669\n",
      "score:0.7163\n",
      "\n",
      "C=10000\n",
      "time: 0:00:05.383874\n",
      "score:0.7163\n",
      "\n"
     ]
    }
   ],
   "source": [
    "kf = KFold(n_splits=5, shuffle=True, random_state=7979)\n",
    "result = []\n",
    "C_params = [0.0001, 0.001, 0.01, 0.1, 1, 10, 100, 1000, 10000]\n",
    "for c in C_params:\n",
    "    print(f'C={c}')\n",
    "    model = LogisticRegression(C=c, random_state=42, n_jobs=-1)\n",
    "    start_time = datetime.datetime.now()\n",
    "    cross_model = round(cross_val_score(model, X_scale, y, cv=kf, scoring='roc_auc', n_jobs=-1).mean(),4)\n",
    "    print('time:', datetime.datetime.now() - start_time)\n",
    "    print(f'score:{cross_model}')\n",
    "    print()\n",
    "    result.append(cross_model)"
   ]
  },
  {
   "cell_type": "markdown",
   "metadata": {},
   "source": [
    "##  Подберите при этом лучший параметр регуляризации (C). Какое наилучшее качество у вас получилось?\n",
    "C=0.01  \n",
    "time: 0:00:04.531124  \n",
    "score:0.7164"
   ]
  },
  {
   "cell_type": "markdown",
   "metadata": {},
   "source": [
    "## Как оно соотносится с качеством градиентного бустинга? Чем вы можете объяснить эту разницу? Быстрее ли работает логистическая регрессия по сравнению с градиентным бустингом?\n",
    "\n",
    "Качество выше. Логистическая регрессия работает заметно быстрее. Для полноценного сравнения моделей требуется более полный подбор параметров, особенно для бустинга"
   ]
  },
  {
   "cell_type": "markdown",
   "metadata": {},
   "source": [
    "## Среди признаков в выборке есть категориальные, которые мы использовали как числовые, что вряд ли является хорошей идеей. Категориальных признаков в этой задаче одиннадцать: lobby_type и r1_hero, r2_hero, ..., r5_hero, d1_hero, d2_hero, ..., d5_hero. Уберите их из выборки, и проведите кросс-валидацию для логистической регрессии на новой выборке с подбором лучшего параметра регуляризации. Изменилось ли качество? Чем вы можете это объяснить?"
   ]
  },
  {
   "cell_type": "code",
   "execution_count": 12,
   "metadata": {},
   "outputs": [],
   "source": [
    "X_del_categ = X.drop(columns=['lobby_type',\n",
    "                               'r1_hero','r2_hero','r3_hero','r4_hero','r5_hero',\n",
    "                              'd1_hero','d2_hero','d3_hero','d4_hero','d5_hero'])\n",
    "scale = StandardScaler()\n",
    "X_scale_del_categ = scale.fit_transform(X_del_categ)"
   ]
  },
  {
   "cell_type": "code",
   "execution_count": 13,
   "metadata": {},
   "outputs": [
    {
     "name": "stdout",
     "output_type": "stream",
     "text": [
      "C=0.0001\n",
      "time: 0:00:02.388437\n",
      "score:0.7112\n",
      "\n",
      "C=0.001\n",
      "time: 0:00:03.378058\n",
      "score:0.7162\n",
      "\n",
      "C=0.01\n",
      "time: 0:00:04.498125\n",
      "score:0.7163\n",
      "\n",
      "C=0.1\n",
      "time: 0:00:05.560032\n",
      "score:0.7163\n",
      "\n",
      "C=1\n",
      "time: 0:00:04.362172\n",
      "score:0.7163\n",
      "\n",
      "C=10\n",
      "time: 0:00:04.392198\n",
      "score:0.7163\n",
      "\n",
      "C=100\n",
      "time: 0:00:04.624873\n",
      "score:0.7163\n",
      "\n",
      "C=1000\n",
      "time: 0:00:04.905507\n",
      "score:0.7163\n",
      "\n",
      "C=10000\n",
      "time: 0:00:04.532049\n",
      "score:0.7163\n",
      "\n"
     ]
    }
   ],
   "source": [
    "kf = KFold(n_splits=5, shuffle=True, random_state=7979)\n",
    "result = []\n",
    "C_params = [0.0001, 0.001, 0.01, 0.1, 1, 10, 100, 1000, 10000]\n",
    "for c in C_params:\n",
    "    print(f'C={c}')\n",
    "    model = LogisticRegression(C=c, random_state=42, n_jobs=-1)\n",
    "    start_time = datetime.datetime.now()\n",
    "    cross_model = round(cross_val_score(model, X_scale_del_categ, y, cv=kf, scoring='roc_auc', n_jobs=-1).mean(),4)\n",
    "    print('time:', datetime.datetime.now() - start_time)\n",
    "    print(f'score:{cross_model}')\n",
    "    print()\n",
    "    result.append(cross_model)"
   ]
  },
  {
   "cell_type": "markdown",
   "metadata": {},
   "source": [
    "Отличия нет. Вероятно модель давала этим признакам веса близкие к нулю"
   ]
  },
  {
   "cell_type": "markdown",
   "metadata": {},
   "source": [
    "## На предыдущем шаге мы исключили из выборки признаки rM_hero и dM_hero, которые показывают, какие именно герои играли за каждую команду. Это важные признаки — герои имеют разные характеристики, и некоторые из них выигрывают чаще, чем другие. Выясните из данных, сколько различных идентификаторов героев существует в данной игре (вам может пригодиться фукнция unique или value_counts)."
   ]
  },
  {
   "cell_type": "code",
   "execution_count": 14,
   "metadata": {},
   "outputs": [
    {
     "data": {
      "text/plain": [
       "(108, 108)"
      ]
     },
     "execution_count": 14,
     "metadata": {},
     "output_type": "execute_result"
    }
   ],
   "source": [
    "X['r1_hero'].nunique(), X['d1_hero'].nunique()"
   ]
  },
  {
   "cell_type": "markdown",
   "metadata": {},
   "source": [
    "## Воспользуемся подходом \"мешок слов\" для кодирования информации о героях. Пусть всего в игре имеет N различных героев. Сформируем N признаков, при этом i-й будет равен нулю, если i-й герой не участвовал в матче; единице, если i-й герой играл за команду Radiant; минус единице, если i-й герой играл за команду Dire. Ниже вы можете найти код, который выполняет данной преобразование. Добавьте полученные признаки к числовым, которые вы использовали во втором пункте данного этапа."
   ]
  },
  {
   "cell_type": "code",
   "execution_count": 15,
   "metadata": {},
   "outputs": [],
   "source": [
    "heroes = [i for i in X.columns if 'hero' in i]\n",
    "heroes_uniq = np.unique(X[heroes])"
   ]
  },
  {
   "cell_type": "code",
   "execution_count": 16,
   "metadata": {},
   "outputs": [],
   "source": [
    "new_columns = {}\n",
    "for i in heroes_uniq:\n",
    "    r = [(data['r%d_hero' % n] == i) + 0 for n in range(1, 6)]\n",
    "    d = [(data['d%d_hero' % n] == i) + 0 for n in range(1, 6)]\n",
    "    new_columns['hero%s' % i] = sum(r) - sum(d)\n",
    "X_new = data.assign(**new_columns)\n",
    "X_new.sort_index(inplace=True)"
   ]
  },
  {
   "cell_type": "code",
   "execution_count": 17,
   "metadata": {},
   "outputs": [],
   "source": [
    "y = X_new ['radiant_win']\n",
    "X_new.drop(['duration', \n",
    "            'radiant_win', \n",
    "            'tower_status_radiant', 'tower_status_dire',\n",
    "            'barracks_status_radiant', 'barracks_status_dire'], axis='columns', inplace=True)"
   ]
  },
  {
   "cell_type": "code",
   "execution_count": 18,
   "metadata": {},
   "outputs": [],
   "source": [
    "scaler = StandardScaler()\n",
    "X_scale_new = scaler.fit_transform(X_new)"
   ]
  },
  {
   "cell_type": "markdown",
   "metadata": {},
   "source": [
    "## Проведите кросс-валидацию для логистической регрессии на новой выборке с подбором лучшего параметра регуляризации. Какое получилось качество? Улучшилось ли оно? Чем вы можете это объяснить?"
   ]
  },
  {
   "cell_type": "code",
   "execution_count": 19,
   "metadata": {},
   "outputs": [
    {
     "name": "stdout",
     "output_type": "stream",
     "text": [
      "C=0.0001\n",
      "time: 0:00:04.634346\n",
      "score:0.7427\n",
      "\n",
      "C=0.001\n",
      "time: 0:00:06.808080\n",
      "score:0.7515\n",
      "\n",
      "C=0.01\n",
      "time: 0:00:09.030301\n",
      "score:0.7518\n",
      "\n",
      "C=0.1\n",
      "time: 0:00:10.408888\n",
      "score:0.7518\n",
      "\n",
      "C=1\n",
      "time: 0:00:10.050641\n",
      "score:0.7518\n",
      "\n",
      "C=10\n",
      "time: 0:00:10.716363\n",
      "score:0.7518\n",
      "\n",
      "C=100\n",
      "time: 0:00:10.018021\n",
      "score:0.7518\n",
      "\n",
      "C=1000\n",
      "time: 0:00:10.273381\n",
      "score:0.7518\n",
      "\n"
     ]
    }
   ],
   "source": [
    "result = []\n",
    "C_params = [0.0001, 0.001, 0.01, 0.1, 1, 10, 100, 1000]\n",
    "for c in C_params:\n",
    "    print(f'C={c}')\n",
    "    model = LogisticRegression(C=c, random_state=7979, n_jobs=-1)\n",
    "    start_time = datetime.datetime.now()\n",
    "    cross_model = round(cross_val_score(model, X_scale_new, y, cv=kf, scoring='roc_auc', n_jobs=-1).mean(),4)\n",
    "    print('time:', datetime.datetime.now() - start_time)\n",
    "    print(f'score:{cross_model}')\n",
    "    print()\n",
    "    result.append(cross_model)"
   ]
  },
  {
   "cell_type": "markdown",
   "metadata": {},
   "source": [
    "Лучшее качество  С = 0.01 (Значение 0.7518). Информация о героях является важным признаком, который необходимо правильно обработать"
   ]
  },
  {
   "cell_type": "markdown",
   "metadata": {},
   "source": [
    "## Постройте предсказания вероятностей победы команды Radiant для тестовой выборки с помощью лучшей из изученных моделей"
   ]
  },
  {
   "cell_type": "code",
   "execution_count": 20,
   "metadata": {},
   "outputs": [],
   "source": [
    "test = pd.read_csv('features_test.csv', index_col='match_id')"
   ]
  },
  {
   "cell_type": "code",
   "execution_count": 21,
   "metadata": {},
   "outputs": [
    {
     "data": {
      "text/plain": [
       "False"
      ]
     },
     "execution_count": 21,
     "metadata": {},
     "output_type": "execute_result"
    }
   ],
   "source": [
    "test.fillna(0, inplace = True)\n",
    "test.isnull().any().any()"
   ]
  },
  {
   "cell_type": "code",
   "execution_count": 22,
   "metadata": {},
   "outputs": [
    {
     "data": {
      "text/plain": [
       "108"
      ]
     },
     "execution_count": 22,
     "metadata": {},
     "output_type": "execute_result"
    }
   ],
   "source": [
    "heroes = [i for i in test.columns if 'hero' in i]\n",
    "heroes_uniq = np.unique(test[heroes])\n",
    "len(heroes_uniq)"
   ]
  },
  {
   "cell_type": "code",
   "execution_count": 23,
   "metadata": {},
   "outputs": [],
   "source": [
    "new_columns_test = {}\n",
    "for i in heroes_uniq:\n",
    "    r = [(test['r%d_hero' % n] == i) + 0 for n in range(1, 6)]\n",
    "    d = [(test['d%d_hero' % n] == i) + 0 for n in range(1, 6)]\n",
    "    new_columns['hero%s' % i] = sum(r) - sum(d)\n",
    "X_test = test.assign(**new_columns)\n",
    "X_test.sort_index(inplace=True)"
   ]
  },
  {
   "cell_type": "code",
   "execution_count": 24,
   "metadata": {},
   "outputs": [],
   "source": [
    "X_scaler_test = scaler.transform(X_test)"
   ]
  },
  {
   "cell_type": "code",
   "execution_count": 25,
   "metadata": {},
   "outputs": [],
   "source": [
    "lr_model = LogisticRegression(C=0.01).fit(X_scale_new, y)\n",
    "\n",
    "predicted = lr_model.predict_proba(X_scaler_test)\n",
    "pred_win_R = []\n",
    "for i in predicted:\n",
    "    pred_win_R.append(i[1])"
   ]
  },
  {
   "cell_type": "markdown",
   "metadata": {},
   "source": [
    "## Какое минимальное и максимальное значение прогноза на тестовой выборке получилось у лучшего из алгоритмов?"
   ]
  },
  {
   "cell_type": "code",
   "execution_count": 26,
   "metadata": {},
   "outputs": [
    {
     "name": "stdout",
     "output_type": "stream",
     "text": [
      "Минимальное значение: 0.008707836522637425\n",
      "Максимальное значение: 0.9963101334700569\n"
     ]
    }
   ],
   "source": [
    "print('Минимальное значение:', min(pred_win_R))\n",
    "print('Максимальное значение:', max(pred_win_R))"
   ]
  }
 ],
 "metadata": {
  "kernelspec": {
   "display_name": "Python 3",
   "language": "python",
   "name": "python3"
  },
  "language_info": {
   "codemirror_mode": {
    "name": "ipython",
    "version": 3
   },
   "file_extension": ".py",
   "mimetype": "text/x-python",
   "name": "python",
   "nbconvert_exporter": "python",
   "pygments_lexer": "ipython3",
   "version": "3.8.3"
  }
 },
 "nbformat": 4,
 "nbformat_minor": 1
}
